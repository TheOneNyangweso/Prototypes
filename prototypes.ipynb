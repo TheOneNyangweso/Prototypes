{
 "cells": [
  {
   "cell_type": "markdown",
   "metadata": {},
   "source": [
    "#### list_separator : function to separate list values in Pandas DataFrame Object such that each value is in it's own column\n",
    "Background problem : Had a dataset which had some column values inform of a string\\\n",
    "which looked like a list e.g '[a, b, c, d, e]' \\\n",
    "but can also apply to data values which are lists e.g [a, b, c, d, e]"
   ]
  },
  {
   "cell_type": "code",
   "execution_count": null,
   "metadata": {},
   "outputs": [],
   "source": [
    "import ast\n",
    "import pandas as pd\n",
    "\n",
    "\n",
    "def list_separator(dataframe, column: str, column_names: list, inplace: bool = False):\n",
    "    \"\"\"\n",
    "    Args:\n",
    "        dataframe : The Pandas DataFrame or Series object with list values\n",
    "        column : Column to Work on (single column allowed for now)\n",
    "        column_names (list): Names of the new columns\n",
    "        inplace (bool, optional): Defaults to False.\n",
    "            Return a new dataframe (default) or remove the passed column and replace it with the generated columns\n",
    "\n",
    "    Returns:\n",
    "        DataFrame Object\\n\n",
    "                Return new dataframe object with only a single column by default\\\n",
    "                else return a copy of the passed dataframe, but with the passed column splitted\n",
    "    \"\"\"\n",
    "\n",
    "    copy = dataframe.copy(deep=True)\n",
    "\n",
    "    # Convert string values to lists\n",
    "    if isinstance(copy[column][0], str):\n",
    "        copy[column] = copy[column].apply(ast.literal_eval)\n",
    "\n",
    "    # Get index of current column\n",
    "    column_index = copy.columns.get_loc(column)\n",
    "\n",
    "    # Reshape the values to match the expected shape\n",
    "    reshaped_values = copy[column].to_list()\n",
    "    new_df = pd.DataFrame(reshaped_values, columns=column_names)\n",
    "\n",
    "    if inplace == False:\n",
    "        # Return a new dataframe with only the affected column split\n",
    "        return new_df\n",
    "    else:  # Return a copy of the passed dataframe, but with the column splitted\n",
    "        # Rearranging the resultant dataframe\n",
    "        copy = pd.concat(\n",
    "            [copy.iloc[:, :column_index], new_df, copy.iloc[:, column_index:]], axis=1\n",
    "        )\n",
    "        copy = copy.drop(columns=[column])\n",
    "\n",
    "        return copy"
   ]
  },
  {
   "cell_type": "markdown",
   "metadata": {},
   "source": [
    "#### do_file : function to convert csv file into table in database (without using Pandas) \n",
    "Background problem : Had a dataset in form of a CSV file\\\n",
    "The DataFrame.to_sql() raised errors...which led to the use of function below"
   ]
  },
  {
   "cell_type": "code",
   "execution_count": null,
   "metadata": {},
   "outputs": [],
   "source": [
    "import csv\n",
    "import sqlite3\n",
    "import glob\n",
    "import os\n",
    "\n",
    "\n",
    "def do_directory(dirname, db):\n",
    "    for filename in glob.glob(os.path.join(dirname, \"*.csv\")):\n",
    "        do_file(filename, db)\n",
    "\n",
    "\n",
    "def do_file(filename, db):\n",
    "    with open(filename) as f:\n",
    "        with db:\n",
    "            data = csv.DictReader(f)\n",
    "            cols = data.fieldnames\n",
    "            table = os.path.splitext(os.path.basename(filename))[0]\n",
    "\n",
    "            sql = 'drop table if exists \"{}\"'.format(table)\n",
    "            db.execute(sql)\n",
    "\n",
    "            sql = 'create table \"{table}\" ( {cols} )'.format(\n",
    "                table=table, cols=\",\".join('\"{}\"'.format(col) for col in cols)\n",
    "            )\n",
    "            db.execute(sql)\n",
    "\n",
    "            sql = 'insert into \"{table}\" values ( {vals} )'.format(\n",
    "                table=table, vals=\",\".join(\"?\" for col in cols)\n",
    "            )\n",
    "            db.executemany(sql, (list(map(row.get, cols)) for row in data))\n",
    "\n",
    "\n",
    "if __name__ == \"__main__\":\n",
    "    # Insert to Database here\n",
    "    conn = sqlite3.connect(\"abcd.db\")\n",
    "    # Pass path to csv file (absolute or relative)\n",
    "    do_directory(\"/home/nyangweso/Desktop/sample.csv\", conn)"
   ]
  },
  {
   "cell_type": "code",
   "execution_count": null,
   "metadata": {},
   "outputs": [],
   "source": []
  }
 ],
 "metadata": {
  "kernelspec": {
   "display_name": "base",
   "language": "python",
   "name": "python3"
  },
  "language_info": {
   "codemirror_mode": {
    "name": "ipython",
    "version": 3
   },
   "file_extension": ".py",
   "mimetype": "text/x-python",
   "name": "python",
   "nbconvert_exporter": "python",
   "pygments_lexer": "ipython3",
   "version": "3.10.10"
  }
 },
 "nbformat": 4,
 "nbformat_minor": 2
}
